{
 "cells": [
  {
   "cell_type": "markdown",
   "id": "1430f0be",
   "metadata": {},
   "source": [
    "# * Задача1 \n",
    "Даны две независимые выборки. Не соблюдается условие нормальности  \n",
    "x1 380, 420, 290  \n",
    "y1 140, 360, 200, 900  \n",
    "Т.к группы независимые и их две применяем критерий Манна-Уитни  "
   ]
  },
  {
   "cell_type": "code",
   "execution_count": null,
   "id": "39d14dfc",
   "metadata": {},
   "outputs": [
    {
     "ename": "",
     "evalue": "",
     "output_type": "error",
     "traceback": [
      "\u001b[1;31mRunning cells with '.venv' requires ipykernel package.\n",
      "\u001b[1;31mRun the following command to install 'ipykernel' into the Python environment. \n",
      "\u001b[1;31mCommand: 'c:/work_project/sympy/.venv/Scripts/python.exe -m pip install ipykernel -U --force-reinstall'"
     ]
    }
   ],
   "source": [
    "import numpy as np\n",
    "import scipy.stats as stats\n",
    "a = np.array([380, 420, 290])\n",
    "b = np.array([140,360,200,900])\n",
    "stats.mannwhitneyu(a,b)"
   ]
  },
  {
   "cell_type": "code",
   "execution_count": null,
   "id": "23f5e653",
   "metadata": {},
   "outputs": [
    {
     "ename": "",
     "evalue": "",
     "output_type": "error",
     "traceback": [
      "\u001b[1;31mRunning cells with '.venv' requires ipykernel package.\n",
      "\u001b[1;31mRun the following command to install 'ipykernel' into the Python environment. \n",
      "\u001b[1;31mCommand: 'c:/work_project/sympy/.venv/Scripts/python.exe -m pip install ipykernel -U --force-reinstall'"
     ]
    }
   ],
   "source": [
    "Т.к pvalue значительно больше 0.05 статистически значимых различий нет  "
   ]
  },
  {
   "cell_type": "markdown",
   "id": "b33ab55a",
   "metadata": {},
   "source": [
    "# * Задача 2\n",
    "Исследовалось влияние препарата на уровень давления пациентов. Сначала измерялось давление до приема препарата, потом через 10 минут и через 30 минут. Есть ли статистически значимые различия?  \n",
    "1е измерение до приема препарата: 150, 160, 165, 145, 155  \n",
    "2е измерение через 10 минут: 140, 155, 150, 130, 135  \n",
    "3е измерение через 30 минут: 130, 130, 120, 130, 125  \n",
    "Т.к проводим множественное сравнение повторных измерений применяйем критерий Фридмана  "
   ]
  },
  {
   "cell_type": "code",
   "execution_count": null,
   "id": "48499b94",
   "metadata": {},
   "outputs": [
    {
     "ename": "",
     "evalue": "",
     "output_type": "error",
     "traceback": [
      "\u001b[1;31mRunning cells with '.venv' requires ipykernel package.\n",
      "\u001b[1;31mRun the following command to install 'ipykernel' into the Python environment. \n",
      "\u001b[1;31mCommand: 'c:/work_project/sympy/.venv/Scripts/python.exe -m pip install ipykernel -U --force-reinstall'"
     ]
    }
   ],
   "source": [
    "measure_1 = np.array([150, 160, 165, 145, 155])\n",
    "measure_2 = np.array([140, 155, 150, 130, 135])\n",
    "measure_3 = np.array([130, 130, 120, 130, 125])\n",
    "stats.friedmanchisquare(measure_1, measure_2, measure_3)"
   ]
  },
  {
   "cell_type": "markdown",
   "id": "1e91c6d9",
   "metadata": {},
   "source": [
    "* Вывод:  \n",
    "Наблюдаются статистически значимые различия.  "
   ]
  },
  {
   "cell_type": "markdown",
   "id": "a6e5db93",
   "metadata": {},
   "source": [
    "# * Задача 3  \n",
    "Сравните 1 и 2-е измерения, предполагая, что 3го измерения через 30 минут не было.  \n",
    "Для двух зависимых групп применяем критерий Уилкоксона  "
   ]
  },
  {
   "cell_type": "code",
   "execution_count": null,
   "id": "326bcf87",
   "metadata": {},
   "outputs": [
    {
     "ename": "",
     "evalue": "",
     "output_type": "error",
     "traceback": [
      "\u001b[1;31mRunning cells with '.venv' requires ipykernel package.\n",
      "\u001b[1;31mRun the following command to install 'ipykernel' into the Python environment. \n",
      "\u001b[1;31mCommand: 'c:/work_project/sympy/.venv/Scripts/python.exe -m pip install ipykernel -U --force-reinstall'"
     ]
    }
   ],
   "source": [
    "measure_1 = np.array([150, 160, 165, 145, 155])\n",
    "measure_2 = np.array([140, 155, 150, 130, 135])\n",
    "stats.wilcoxon(measure_1, measure_2)"
   ]
  },
  {
   "cell_type": "markdown",
   "id": "2c054bc3",
   "metadata": {},
   "source": [
    "* Вывод:  \n",
    "Статистически значимых различий не наблюдается  "
   ]
  },
  {
   "cell_type": "markdown",
   "id": "1c76fc2b",
   "metadata": {},
   "source": [
    "# * Задача 4  \n",
    "Даны 3 группы учеников плавания.  \n",
    "В 1 группе время на дистанцию 50 м составляют: 56, 60, 62, 55, 71, 67, 59, 58, 64, 67  \n",
    "Вторая группа : 57, 58, 69, 48, 72, 70, 68, 71, 50, 53  \n",
    "Третья группа: 57, 67, 49, 48, 47, 55, 66, 51, 54  \n",
    "Для трех независимых групп применяем критерий Крускала-Уоллиса  "
   ]
  },
  {
   "cell_type": "code",
   "execution_count": null,
   "id": "ded618f7",
   "metadata": {},
   "outputs": [
    {
     "ename": "",
     "evalue": "",
     "output_type": "error",
     "traceback": [
      "\u001b[1;31mRunning cells with '.venv' requires ipykernel package.\n",
      "\u001b[1;31mRun the following command to install 'ipykernel' into the Python environment. \n",
      "\u001b[1;31mCommand: 'c:/work_project/sympy/.venv/Scripts/python.exe -m pip install ipykernel -U --force-reinstall'"
     ]
    }
   ],
   "source": [
    "group_1 = np.array([56, 60, 62, 55, 71, 67, 59, 58, 64, 67])\n",
    "group_2 = np.array([57, 58, 69, 48, 72, 70, 68, 71, 50, 53])\n",
    "group_3 = np.array([57, 67, 49, 48, 47, 55, 66, 51, 54])\n",
    "stats.kruskal(group_1, group_2, group_3)"
   ]
  },
  {
   "cell_type": "markdown",
   "id": "354b4145",
   "metadata": {},
   "source": [
    "* Вывод:  \n",
    "Группы статистически похожи  "
   ]
  },
  {
   "cell_type": "markdown",
   "id": "c2bfd519",
   "metadata": {},
   "source": [
    "# * Задача 5  \n",
    "Заявляется, что партия изготавливается со средним арифметическим 2,5 см. Проверить данную гипотезу, если известно, что размеры изделий подчинены нормальному закону распределения. Объем выборки 10, уровень статистической значимости 5%  \n",
    "2.51, 2.35, 2.74, 2.56, 2.40, 2.36, 2.65, 2.7, 2.67, 2.34\n",
    "\n",
    "Тестируем нулевую гипотезу о том что партия имеет среднее арифмитическое 2.5\n",
    "σ генеральной совокупности не известная, поэтому применяем t критерий.\n",
    "![](images\\t.png)\n",
    "Среднее значение X по выборке равно 2,528  \n",
    "Объем выборки n = 10  \n",
    "Стандартное несмещенное отклонение по выборке   \n",
    "![](images\\sigma.png)  \n",
    "σн= 0,1572\n",
    "![](images\\tn.png)  \n",
    "По таблице для числа степеней свободы n-1 = 9 и α=0,05 t= 2,262  \n",
    "Т.к 0,5632 <2.262 делаем вывод что гипотеза верна, т.е партия изготавливается со средним арифметическим 2,5 см\n"
   ]
  }
 ],
 "metadata": {
  "kernelspec": {
   "display_name": ".venv",
   "language": "python",
   "name": "python3"
  },
  "language_info": {
   "codemirror_mode": {
    "name": "ipython",
    "version": 3
   },
   "file_extension": ".py",
   "mimetype": "text/x-python",
   "name": "python",
   "nbconvert_exporter": "python",
   "pygments_lexer": "ipython3",
   "version": "3.10.7 (tags/v3.10.7:6cc6b13, Sep  5 2022, 14:08:36) [MSC v.1933 64 bit (AMD64)]"
  },
  "vscode": {
   "interpreter": {
    "hash": "639e5d3421b9cc3b2c3c4f473050446aee553b24c0494cd73d6131cd38ca1139"
   }
  }
 },
 "nbformat": 4,
 "nbformat_minor": 5
}
